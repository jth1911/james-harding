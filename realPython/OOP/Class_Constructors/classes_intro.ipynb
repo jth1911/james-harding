{
 "cells": [
  {
   "cell_type": "markdown",
   "metadata": {},
   "source": [
    "# Python Classes\n",
    "## Create Python Class"
   ]
  },
  {
   "cell_type": "code",
   "execution_count": 18,
   "metadata": {},
   "outputs": [],
   "source": [
    "# New class\n",
    "class Dog:\n",
    "\n",
    "    species = 'mammal'  # class attributes\n",
    "    \n",
    "    # instance attributes\n",
    "    def __init__(self, name, age) -> None:\n",
    "        self.name = name\n",
    "        self.age = age"
   ]
  },
  {
   "cell_type": "code",
   "execution_count": 19,
   "metadata": {},
   "outputs": [],
   "source": [
    "# New dog\n",
    "dexter = Dog('Dexter', '2')\n",
    "franklin = Dog('Franklin', '1')\n",
    "\n",
    "print(f\"{dexter.name} is {dexter.age} and {franklin.name} is {franklin.age}\")\n",
    "\n",
    "if dexter.species == 'mammal':\n",
    "    print(f\"{dexter.name} is a {dexter.species}\")"
   ]
  },
  {
   "cell_type": "code",
   "execution_count": 22,
   "metadata": {},
   "outputs": [
    {
     "name": "stdout",
     "output_type": "stream",
     "text": [
      "Dexter is 7 and Franklin is 1\n"
     ]
    }
   ],
   "source": [
    "# Change Attributes\n",
    "dexter.age = 7\n",
    "dexter.species = 'mouse'\n",
    "\n",
    "print(f\"{dexter.name} is {dexter.age} and {franklin.name} is {franklin.age}\")\n",
    "\n",
    "if dexter.species == 'mammal':\n",
    "    print(f\"{dexter.name} is a {dexter.species}\")"
   ]
  },
  {
   "cell_type": "markdown",
   "metadata": {},
   "source": [
    "## Add Methods"
   ]
  },
  {
   "cell_type": "code",
   "execution_count": 29,
   "metadata": {},
   "outputs": [],
   "source": [
    "# New class\n",
    "class Dog:\n",
    "\n",
    "    species = 'mammal'  # class attributes\n",
    "    \n",
    "    # instance attributes\n",
    "    def __init__(self, name, age) -> None:\n",
    "        self.name = name\n",
    "        self.age = age\n",
    "\n",
    "    def description(self):\n",
    "        return f\"{self.name} is {self.age} years old\"\n",
    "    \n",
    "    def speak(self, sound):\n",
    "        return f\"{self.name} says {sound}\"\n",
    "    \n",
    "    def birthday(self):\n",
    "        self.age += 1\n",
    "\n",
    "# New dog\n",
    "dexter = Dog('Dexter', 2)\n",
    "franklin = Dog('Franklin', 1)\n",
    "\n",
    "print(dexter.description())\n",
    "print(dexter.speak(\"Gruff gruff\"))\n",
    "\n",
    "# Celebrate Birthday\n",
    "dexter.birthday()\n",
    "print(dexter.description())"
   ]
  },
  {
   "cell_type": "markdown",
   "metadata": {},
   "source": [
    "## Object Inheritance\n",
    "### Person / Baby Class"
   ]
  },
  {
   "cell_type": "code",
   "execution_count": 33,
   "metadata": {},
   "outputs": [],
   "source": [
    "class Person:\n",
    "    description = \"general person\"\n",
    "\n",
    "    def __init__(self, name, age) -> None:\n",
    "        self.name = name\n",
    "        self.age = age\n",
    "    \n",
    "    def speak(self):\n",
    "        print(f\"My name is {self.name} and I am {self.age} years old\")\n",
    "\n",
    "    def eat(self, food):\n",
    "        print(f\"{self.name} eats {food}\")\n",
    "\n",
    "    def action(self):\n",
    "        print(f\"{self.name} jumps\")\n",
    "\n",
    "class Baby(Person):\n",
    "    description = \"baby\"   # overiding description\n",
    "\n",
    "    def speak(self):\n",
    "        print(\"ba ba ba ba ba\")\n",
    "\n",
    "    def nap(self):\n",
    "        print(f\"{self.name} takes a nap\")\n",
    "\n",
    "person = Person(\"Steve\", 20)\n",
    "person.speak()\n",
    "person.eat(\"pasta\")\n",
    "person.action()\n",
    "\n",
    "baby = Baby(\"Ian\", 1)\n",
    "baby.speak()\n",
    "baby.eat(\"Baby food\")\n",
    "baby.action()\n",
    "\n",
    "\n",
    "print(person.description)\n",
    "print(baby.description)\n"
   ]
  },
  {
   "cell_type": "markdown",
   "metadata": {},
   "source": [
    "### Change Person Class"
   ]
  },
  {
   "cell_type": "code",
   "execution_count": 49,
   "metadata": {},
   "outputs": [
    {
     "name": "stdout",
     "output_type": "stream",
     "text": [
      "My name is Steve and I am 20 years old\n",
      "Steve eats pasta\n",
      "Steve spins\n",
      "ba ba ba ba ba\n",
      "Ian eats Baby food\n",
      "Ian spins\n",
      "general person\n",
      "baby\n"
     ]
    }
   ],
   "source": [
    "class Person:\n",
    "    description = \"general person\"\n",
    "\n",
    "    def __init__(self, name, age) -> None:\n",
    "        self.name = name\n",
    "        self.age = age\n",
    "    \n",
    "    def speak(self):\n",
    "        print(f\"My name is {self.name} and I am {self.age} years old\")\n",
    "\n",
    "    def eat(self, food):\n",
    "        print(f\"{self.name} eats {food}\")\n",
    "\n",
    "    def action(self):\n",
    "        print(f\"{self.name} spins\")\n",
    "\n",
    "class Baby(Person):\n",
    "    description = \"baby\"   # overiding description\n",
    "\n",
    "    def speak(self):\n",
    "        print(\"ba ba ba ba ba\")\n",
    "\n",
    "    def nap(self):\n",
    "        print(f\"{self.name} takes a nap\")\n",
    "\n",
    "person = Person(\"Steve\", 20)\n",
    "person.speak()\n",
    "person.eat(\"pasta\")\n",
    "person.action()\n",
    "\n",
    "baby = Baby(\"Ian\", 1)\n",
    "baby.speak()\n",
    "baby.eat(\"Baby food\")\n",
    "baby.action()\n",
    "\n",
    "\n",
    "print(person.description)\n",
    "print(baby.description)"
   ]
  },
  {
   "cell_type": "code",
   "execution_count": 51,
   "metadata": {},
   "outputs": [
    {
     "name": "stdout",
     "output_type": "stream",
     "text": [
      "True\n",
      "True\n"
     ]
    }
   ],
   "source": [
    "# Is a baby a Person\n",
    "print(isinstance(baby, Person))\n",
    "\n",
    "# Is a baby an Ojbect\n",
    "print(isinstance(baby, object))\n"
   ]
  },
  {
   "cell_type": "markdown",
   "metadata": {},
   "source": [
    "## Super"
   ]
  },
  {
   "cell_type": "code",
   "execution_count": 1,
   "metadata": {},
   "outputs": [
    {
     "name": "stdout",
     "output_type": "stream",
     "text": [
      "John Doe\n",
      "2001-02-07\n",
      "Python Developer\n"
     ]
    }
   ],
   "source": [
    "class Person:\n",
    "    def __init__(self,name, birth_date) -> None:\n",
    "        self.name = name\n",
    "        self.birth_date = birth_date\n",
    "\n",
    "class Employee(Person):\n",
    "    def __init__(self, name, birth_date, position) -> None:\n",
    "        super().__init__(name, birth_date)\n",
    "        self.position = position\n",
    "\n",
    "john = Employee(\"John Doe\", \"2001-02-07\", \"Python Developer\")\n",
    "print(john.name)\n",
    "print(john.birth_date)\n",
    "print(john.position)"
   ]
  },
  {
   "cell_type": "code",
   "execution_count": null,
   "metadata": {},
   "outputs": [],
   "source": []
  }
 ],
 "metadata": {
  "kernelspec": {
   "display_name": "base",
   "language": "python",
   "name": "python3"
  },
  "language_info": {
   "codemirror_mode": {
    "name": "ipython",
    "version": 3
   },
   "file_extension": ".py",
   "mimetype": "text/x-python",
   "name": "python",
   "nbconvert_exporter": "python",
   "pygments_lexer": "ipython3",
   "version": "3.11.5"
  }
 },
 "nbformat": 4,
 "nbformat_minor": 2
}
