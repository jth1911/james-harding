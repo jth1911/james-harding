{
 "cells": [
  {
   "cell_type": "code",
   "execution_count": 6,
   "metadata": {},
   "outputs": [
    {
     "name": "stdout",
     "output_type": "stream",
     "text": [
      "Finished 'waste_some_time' in 0.0003 secs\n",
      "Finished 'waste_some_time' in 0.2948 secs\n",
      "Finished 'waste_some_time' in 2.8759 secs\n"
     ]
    }
   ],
   "source": [
    "# Capture how long it takes for a function to run\n",
    "from decorators import timer\n",
    "\n",
    "@timer\n",
    "def waste_some_time(num_times):\n",
    "    for _ in range(num_times):\n",
    "        sum([i**2 for i in range(10000)])\n",
    "\n",
    "\n",
    "waste_some_time(1)\n",
    "waste_some_time(1000)\n",
    "waste_some_time(10000)"
   ]
  },
  {
   "cell_type": "code",
   "execution_count": 8,
   "metadata": {},
   "outputs": [
    {
     "name": "stdout",
     "output_type": "stream",
     "text": [
      "Calling factorial(0)\n",
      "Calling factorial(0)\n",
      "'factorial' returned 1\n",
      "'factorial' returned 1\n",
      "Calling factorial(1)\n",
      "Calling factorial(1)\n",
      "'factorial' returned 1\n",
      "'factorial' returned 1\n",
      "Calling factorial(2)\n",
      "Calling factorial(2)\n",
      "'factorial' returned 2\n",
      "'factorial' returned 2\n",
      "Calling factorial(3)\n",
      "Calling factorial(3)\n",
      "'factorial' returned 6\n",
      "'factorial' returned 6\n",
      "Calling factorial(4)\n",
      "Calling factorial(4)\n",
      "'factorial' returned 24\n",
      "'factorial' returned 24\n"
     ]
    },
    {
     "data": {
      "text/plain": [
       "2.708333333333333"
      ]
     },
     "execution_count": 8,
     "metadata": {},
     "output_type": "execute_result"
    }
   ],
   "source": [
    "# Debug a function\n",
    "import math\n",
    "from decorators import debug\n",
    "\n",
    "# Apply a decorator to a standard library function\n",
    "math.factorial = debug(math.factorial)\n",
    "\n",
    "def approximate_e(terms=18):\n",
    "    return sum(1 / math.factorial(n) for n in range(terms))\n",
    "\n",
    "approximate_e(5)"
   ]
  },
  {
   "cell_type": "code",
   "execution_count": 3,
   "metadata": {},
   "outputs": [
    {
     "name": "stdout",
     "output_type": "stream",
     "text": [
      "3\n",
      "2\n",
      "1\n",
      "Liftoff!\n"
     ]
    }
   ],
   "source": [
    "# Slow down code: rate limiter\n",
    "\n",
    "from decorators import slow_down\n",
    "\n",
    "@slow_down\n",
    "def countdown(from_number):\n",
    "    if from_number < 1:\n",
    "        print(f\"Execute!\")\n",
    "    else:\n",
    "        #print(from_number)\n",
    "        countdown(from_number - 1)\n",
    "\n",
    "countdown(3)"
   ]
  },
  {
   "cell_type": "code",
   "execution_count": 1,
   "metadata": {},
   "outputs": [],
   "source": [
    "from decorators import slow_down"
   ]
  },
  {
   "cell_type": "code",
   "execution_count": null,
   "metadata": {},
   "outputs": [],
   "source": []
  }
 ],
 "metadata": {
  "kernelspec": {
   "display_name": "base",
   "language": "python",
   "name": "python3"
  },
  "language_info": {
   "codemirror_mode": {
    "name": "ipython",
    "version": 3
   },
   "file_extension": ".py",
   "mimetype": "text/x-python",
   "name": "python",
   "nbconvert_exporter": "python",
   "pygments_lexer": "ipython3",
   "version": "3.11.5"
  }
 },
 "nbformat": 4,
 "nbformat_minor": 2
}
